{
 "cells": [
  {
   "cell_type": "code",
   "execution_count": 1,
   "metadata": {},
   "outputs": [],
   "source": [
    "import numpy as np\n",
    "import matplotlib.pyplot as plt\n",
    "import pandas as pd\n",
    "from datetime import datetime, timedelta, date\n",
    "from dateutil.relativedelta import relativedelta\n",
    "from energyquantified import EnergyQuantified\n",
    "from energyquantified.metadata import ContractPeriod\n",
    "from statsmodels.tsa.seasonal import seasonal_decompose\n",
    "\n",
    "from historicl_movement_functions.ttf_download_hisotry import ttf_download_hisotry_func\n",
    "from datetime import datetime\n",
    "from long_term_volatility_calc import *\n"
   ]
  },
  {
   "cell_type": "code",
   "execution_count": 2,
   "metadata": {},
   "outputs": [
    {
     "output_type": "execute_result",
     "data": {
      "text/plain": [
       "True"
      ]
     },
     "metadata": {},
     "execution_count": 2
    }
   ],
   "source": [
    "api_key = 'ebbdc4-a81661-5dfb18-e24b2e'\n",
    "http_proxy  = \"http://proxy.spp.sk:8080\"\n",
    "https_proxy  = \"http://proxy.spp.sk:8080\"\n",
    "\n",
    "proxies = {\"http\"  : http_proxy,\n",
    "            \"https\"  : https_proxy}\n",
    "\n",
    "eq = EnergyQuantified(api_key=api_key, proxies= proxies)\n",
    "eq.is_api_key_valid()"
   ]
  },
  {
   "cell_type": "code",
   "execution_count": 3,
   "metadata": {},
   "outputs": [],
   "source": [
    "fwd_time_series = eq.ohlc.load(\n",
    "   'NL Futures Natural Gas EUR/MWh ICE-TTF OHLC',\n",
    "   begin=date(2010, 1, 1),\n",
    "   end=date(2020, 1, 1),\n",
    "   period=ContractPeriod.MONTH  # Only monthly contracts\n",
    ")\n",
    "\n",
    "df = fwd_time_series.to_dataframe()\n",
    "# forward_prices['delivery'] = pd.to_datetime(forward_prices['delivery'], errors='coerce')\n",
    "\n",
    "# # 3) add year and month columns\n",
    "# forward_prices['year'] = forward_prices['delivery'].dt.year\n",
    "# forward_prices['month'] = forward_prices['delivery'].dt.month_name()   # use .dt.month_name() for names instead or dt.month "
   ]
  },
  {
   "cell_type": "code",
   "execution_count": 4,
   "metadata": {},
   "outputs": [
    {
     "output_type": "execute_result",
     "data": {
      "text/plain": [
       "           traded period  front    delivery  open  high  low  close  \\\n",
       "0      2010-01-04  month      1  2010-02-01   NaN   NaN  NaN    NaN   \n",
       "1      2010-01-04  month      2  2010-03-01   NaN   NaN  NaN    NaN   \n",
       "2      2010-01-04  month      3  2010-04-01   NaN   NaN  NaN    NaN   \n",
       "3      2010-01-05  month      1  2010-02-01   NaN   NaN  NaN    NaN   \n",
       "4      2010-01-05  month      2  2010-03-01   NaN   NaN  NaN    NaN   \n",
       "...           ...    ...    ...         ...   ...   ...  ...    ...   \n",
       "88640  2019-12-31  month     44  2023-09-01   NaN   NaN  NaN    NaN   \n",
       "88641  2019-12-31  month     45  2023-10-01   NaN   NaN  NaN    NaN   \n",
       "88642  2019-12-31  month     46  2023-11-01   NaN   NaN  NaN    NaN   \n",
       "88643  2019-12-31  month     47  2023-12-01   NaN   NaN  NaN    NaN   \n",
       "88644  2019-12-31  month     48  2024-01-01   NaN   NaN  NaN    NaN   \n",
       "\n",
       "       settlement  volume  open_interest  \n",
       "0           13.80    90.0            0.0  \n",
       "1           13.71     0.0            0.0  \n",
       "2           13.34     0.0            0.0  \n",
       "3           13.97   150.0            0.0  \n",
       "4           13.72    30.0            0.0  \n",
       "...           ...     ...            ...  \n",
       "88640       16.37     5.0         6664.0  \n",
       "88641       16.85     5.0         6889.0  \n",
       "88642       17.63     5.0         6889.0  \n",
       "88643       17.74     5.0         6889.0  \n",
       "88644       18.11     5.0         1616.0  \n",
       "\n",
       "[88645 rows x 11 columns]"
      ],
      "text/html": "<div>\n<style scoped>\n    .dataframe tbody tr th:only-of-type {\n        vertical-align: middle;\n    }\n\n    .dataframe tbody tr th {\n        vertical-align: top;\n    }\n\n    .dataframe thead th {\n        text-align: right;\n    }\n</style>\n<table border=\"1\" class=\"dataframe\">\n  <thead>\n    <tr style=\"text-align: right;\">\n      <th></th>\n      <th>traded</th>\n      <th>period</th>\n      <th>front</th>\n      <th>delivery</th>\n      <th>open</th>\n      <th>high</th>\n      <th>low</th>\n      <th>close</th>\n      <th>settlement</th>\n      <th>volume</th>\n      <th>open_interest</th>\n    </tr>\n  </thead>\n  <tbody>\n    <tr>\n      <th>0</th>\n      <td>2010-01-04</td>\n      <td>month</td>\n      <td>1</td>\n      <td>2010-02-01</td>\n      <td>NaN</td>\n      <td>NaN</td>\n      <td>NaN</td>\n      <td>NaN</td>\n      <td>13.80</td>\n      <td>90.0</td>\n      <td>0.0</td>\n    </tr>\n    <tr>\n      <th>1</th>\n      <td>2010-01-04</td>\n      <td>month</td>\n      <td>2</td>\n      <td>2010-03-01</td>\n      <td>NaN</td>\n      <td>NaN</td>\n      <td>NaN</td>\n      <td>NaN</td>\n      <td>13.71</td>\n      <td>0.0</td>\n      <td>0.0</td>\n    </tr>\n    <tr>\n      <th>2</th>\n      <td>2010-01-04</td>\n      <td>month</td>\n      <td>3</td>\n      <td>2010-04-01</td>\n      <td>NaN</td>\n      <td>NaN</td>\n      <td>NaN</td>\n      <td>NaN</td>\n      <td>13.34</td>\n      <td>0.0</td>\n      <td>0.0</td>\n    </tr>\n    <tr>\n      <th>3</th>\n      <td>2010-01-05</td>\n      <td>month</td>\n      <td>1</td>\n      <td>2010-02-01</td>\n      <td>NaN</td>\n      <td>NaN</td>\n      <td>NaN</td>\n      <td>NaN</td>\n      <td>13.97</td>\n      <td>150.0</td>\n      <td>0.0</td>\n    </tr>\n    <tr>\n      <th>4</th>\n      <td>2010-01-05</td>\n      <td>month</td>\n      <td>2</td>\n      <td>2010-03-01</td>\n      <td>NaN</td>\n      <td>NaN</td>\n      <td>NaN</td>\n      <td>NaN</td>\n      <td>13.72</td>\n      <td>30.0</td>\n      <td>0.0</td>\n    </tr>\n    <tr>\n      <th>...</th>\n      <td>...</td>\n      <td>...</td>\n      <td>...</td>\n      <td>...</td>\n      <td>...</td>\n      <td>...</td>\n      <td>...</td>\n      <td>...</td>\n      <td>...</td>\n      <td>...</td>\n      <td>...</td>\n    </tr>\n    <tr>\n      <th>88640</th>\n      <td>2019-12-31</td>\n      <td>month</td>\n      <td>44</td>\n      <td>2023-09-01</td>\n      <td>NaN</td>\n      <td>NaN</td>\n      <td>NaN</td>\n      <td>NaN</td>\n      <td>16.37</td>\n      <td>5.0</td>\n      <td>6664.0</td>\n    </tr>\n    <tr>\n      <th>88641</th>\n      <td>2019-12-31</td>\n      <td>month</td>\n      <td>45</td>\n      <td>2023-10-01</td>\n      <td>NaN</td>\n      <td>NaN</td>\n      <td>NaN</td>\n      <td>NaN</td>\n      <td>16.85</td>\n      <td>5.0</td>\n      <td>6889.0</td>\n    </tr>\n    <tr>\n      <th>88642</th>\n      <td>2019-12-31</td>\n      <td>month</td>\n      <td>46</td>\n      <td>2023-11-01</td>\n      <td>NaN</td>\n      <td>NaN</td>\n      <td>NaN</td>\n      <td>NaN</td>\n      <td>17.63</td>\n      <td>5.0</td>\n      <td>6889.0</td>\n    </tr>\n    <tr>\n      <th>88643</th>\n      <td>2019-12-31</td>\n      <td>month</td>\n      <td>47</td>\n      <td>2023-12-01</td>\n      <td>NaN</td>\n      <td>NaN</td>\n      <td>NaN</td>\n      <td>NaN</td>\n      <td>17.74</td>\n      <td>5.0</td>\n      <td>6889.0</td>\n    </tr>\n    <tr>\n      <th>88644</th>\n      <td>2019-12-31</td>\n      <td>month</td>\n      <td>48</td>\n      <td>2024-01-01</td>\n      <td>NaN</td>\n      <td>NaN</td>\n      <td>NaN</td>\n      <td>NaN</td>\n      <td>18.11</td>\n      <td>5.0</td>\n      <td>1616.0</td>\n    </tr>\n  </tbody>\n</table>\n<p>88645 rows × 11 columns</p>\n</div>"
     },
     "metadata": {},
     "execution_count": 4
    }
   ],
   "source": [
    "df"
   ]
  },
  {
   "cell_type": "code",
   "execution_count": 5,
   "metadata": {},
   "outputs": [
    {
     "output_type": "stream",
     "name": "stdout",
     "text": [
      "PeriodIndex(['2010-01', '2010-01', '2010-01', '2010-01', '2010-01', '2010-01',\n             '2010-01', '2010-01', '2010-01', '2010-01',\n             ...\n             '2019-12', '2019-12', '2019-12', '2019-12', '2019-12', '2019-12',\n             '2019-12', '2019-12', '2019-12', '2019-12'],\n            dtype='period[M]', name='traded', length=2575)\nlong_term_vol = 0.1709  # annualized\n"
     ]
    }
   ],
   "source": [
    "lt_vol = compute_long_term_vol_from_df(df, day_count=252, winsor=0.01)\n",
    "print(f\"long_term_vol = {lt_vol:.4f}  # annualized\")"
   ]
  }
 ],
 "metadata": {
  "kernelspec": {
   "name": "python3105jvsc74a57bd0085635c7bab703e7bb5a41fe64c7278518d529ae783e191374674f75ba478b45",
   "display_name": "Python 3.10.5 64-bit"
  },
  "language_info": {
   "codemirror_mode": {
    "name": "ipython",
    "version": 3
   },
   "file_extension": ".py",
   "mimetype": "text/x-python",
   "name": "python",
   "nbconvert_exporter": "python",
   "pygments_lexer": "ipython3",
   "version": "3.10.5"
  }
 },
 "nbformat": 4,
 "nbformat_minor": 2
}