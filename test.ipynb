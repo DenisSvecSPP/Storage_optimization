{
 "cells": [
  {
   "cell_type": "code",
   "execution_count": 10,
   "metadata": {},
   "outputs": [],
   "source": [
    "import numpy as np\n",
    "import matplotlib.pyplot as plt\n",
    "import pandas as pd\n",
    "from datetime import datetime, timedelta, date\n",
    "from dateutil.relativedelta import relativedelta\n",
    "from energyquantified import EnergyQuantified\n",
    "from energyquantified.metadata import ContractPeriod\n",
    "from statsmodels.tsa.seasonal import seasonal_decompose\n",
    "\n",
    "from historicl_movement_functions.ttf_download_hisotry import ttf_download_hisotry_func\n",
    "from datetime import datetime\n",
    "from long_term_volatility_calc import *\n"
   ]
  },
  {
   "cell_type": "code",
   "execution_count": 11,
   "metadata": {},
   "outputs": [
    {
     "output_type": "execute_result",
     "data": {
      "text/plain": [
       "True"
      ]
     },
     "metadata": {},
     "execution_count": 11
    }
   ],
   "source": [
    "api_key = 'ebbdc4-a81661-5dfb18-e24b2e'\n",
    "http_proxy  = \"http://proxy.spp.sk:8080\"\n",
    "https_proxy  = \"http://proxy.spp.sk:8080\"\n",
    "\n",
    "proxies = {\"http\"  : http_proxy,\n",
    "            \"https\"  : https_proxy}\n",
    "\n",
    "eq = EnergyQuantified(api_key=api_key, proxies= proxies)\n",
    "eq.is_api_key_valid()"
   ]
  },
  {
   "cell_type": "code",
   "execution_count": 12,
   "metadata": {},
   "outputs": [
    {
     "output_type": "stream",
     "name": "stdout",
     "text": [
      "Status: Optimal\nTotal Profit = 6668.2\n"
     ]
    }
   ],
   "source": [
    "import pulp\n",
    "import random\n",
    "# Sample forward price curve (e.g., 30 days of prices with a seasonal pattern)\n",
    "import math\n",
    "D = 30\n",
    "prices = [0.5 + 0.4 * math.sin(2*math.pi * t / D) + 0.1 * (2*random.random() - 1) \n",
    "          for t in range(D)]  # synthetic prices with noise\n",
    "prices = [round(p, 2) for p in prices]\n",
    "\n",
    "# Storage parameters\n",
    "min_inv = 0\n",
    "max_inv = 500000\n",
    "start_inv = 0\n",
    "# Injection and withdrawal rate tiers:\n",
    "# (We convert percentage fullness thresholds to absolute inventory amounts for constraints)\n",
    "inj_thresholds = [0.30 * max_inv, 0.80 * max_inv]  # 150000, 400000\n",
    "wd_threshold   = 0.25 * max_inv                    # 125000\n",
    "# Max rates corresponding to tiers:\n",
    "inj_rate = [6370, 5096, 3822]  # for <=30%, 30-80%, 80-100%\n",
    "wd_rate  = [4430, 8860]        # for <=25%, >25%\n",
    "\n",
    "# Initialize MILP model\n",
    "model = pulp.LpProblem(\"GasStorageIntrinsic\", pulp.LpMaximize)\n",
    "\n",
    "# Decision variables\n",
    "I = pulp.LpVariable.dicts(\"Inject\", range(D), lowBound=0, upBound=inj_rate[0])      # injection volume per day\n",
    "W = pulp.LpVariable.dicts(\"Withdraw\", range(D), lowBound=0, upBound=wd_rate[1])    # withdrawal volume per day\n",
    "Inv = pulp.LpVariable.dicts(\"Inv\", range(D+1), lowBound=min_inv, upBound=max_inv)  # inventory at end of each day\n",
    "y_inj1 = pulp.LpVariable.dicts(\"y_inj1\", range(D), cat=\"Binary\")\n",
    "y_inj2 = pulp.LpVariable.dicts(\"y_inj2\", range(D), cat=\"Binary\")\n",
    "y_inj3 = pulp.LpVariable.dicts(\"y_inj3\", range(D), cat=\"Binary\")\n",
    "y_wd1  = pulp.LpVariable.dicts(\"y_wd1\", range(D), cat=\"Binary\")\n",
    "y_wd2  = pulp.LpVariable.dicts(\"y_wd2\", range(D), cat=\"Binary\")\n",
    "\n",
    "# Objective: maximize total profit = sum(W_d * (P_d - wd_cost) - I_d * (P_d + inj_cost))\n",
    "inj_cost = 0.05\n",
    "wd_cost = 0.03\n",
    "model += pulp.lpSum([ W[d] * (prices[d] - wd_cost) - I[d] * (prices[d] + inj_cost) for d in range(D) ])\n",
    "\n",
    "# Constraints:\n",
    "\n",
    "# Initial inventory\n",
    "model += Inv[0] == start_inv\n",
    "\n",
    "# Inventory transition (balance) for each day\n",
    "for d in range(D):\n",
    "    model += Inv[d+1] == Inv[d] + I[d] - W[d], f\"InventoryBalance_day{d}\"\n",
    "\n",
    "# Final inventory must be zero (end empty to realize all profits in horizon)\n",
    "model += Inv[D] == 0\n",
    "\n",
    "# Operational constraints per day\n",
    "for d in range(D):\n",
    "    # Injection rate limit based on chosen tier\n",
    "    model += I[d] <= inj_rate[0] * y_inj1[d] + inj_rate[1] * y_inj2[d] + inj_rate[2] * y_inj3[d], f\"InjRateLimit_day{d}\"\n",
    "    # Withdrawal rate limit based on chosen tier\n",
    "    model += W[d] <= wd_rate[0] * y_wd1[d] + wd_rate[1] * y_wd2[d], f\"WdRateLimit_day{d}\"\n",
    "    # Link inventory level to injection tier choice\n",
    "    model += Inv[d] <= inj_thresholds[0] + max_inv * (1 - y_inj1[d]), f\"InjTier1_if_day{d}\"\n",
    "    model += Inv[d] >= inj_thresholds[0] * y_inj2[d], f\"InjTier2_min_day{d}\"\n",
    "    model += Inv[d] <= inj_thresholds[1] + max_inv * (1 - y_inj2[d]), f\"InjTier2_max_day{d}\"\n",
    "    model += Inv[d] >= inj_thresholds[1] * y_inj3[d], f\"InjTier3_if_day{d}\"\n",
    "    # Link inventory level to withdrawal tier choice\n",
    "    model += Inv[d] <= wd_threshold + max_inv * (1 - y_wd1[d]), f\"WdTier1_if_day{d}\"\n",
    "    model += Inv[d] >= wd_threshold * y_wd2[d], f\"WdTier2_if_day{d}\"\n",
    "    # Only one injection tier and one withdrawal tier can be active (and at most one mode)\n",
    "    model += y_inj1[d] + y_inj2[d] + y_inj3[d] <= 1, f\"InjectTierChoice_day{d}\"\n",
    "    model += y_wd1[d] + y_wd2[d] <= 1, f\"WithdrawTierChoice_day{d}\"\n",
    "    # Prevent simultaneous inject & withdraw\n",
    "    model += y_inj1[d] + y_inj2[d] + y_inj3[d] + y_wd1[d] + y_wd2[d] <= 1, f\"OneMode_day{d}\"\n",
    "\n",
    "# Solve the MILP\n",
    "model.solve(pulp.PULP_CBC_CMD(msg=False))\n",
    "print(\"Status:\", pulp.LpStatus[model.status])\n",
    "print(\"Total Profit =\", pulp.value(model.objective))\n"
   ]
  }
 ],
 "metadata": {
  "kernelspec": {
   "name": "python3105jvsc74a57bd0085635c7bab703e7bb5a41fe64c7278518d529ae783e191374674f75ba478b45",
   "display_name": "Python 3.10.5 64-bit"
  },
  "language_info": {
   "codemirror_mode": {
    "name": "ipython",
    "version": 3
   },
   "file_extension": ".py",
   "mimetype": "text/x-python",
   "name": "python",
   "nbconvert_exporter": "python",
   "pygments_lexer": "ipython3",
   "version": "3.10.5"
  }
 },
 "nbformat": 4,
 "nbformat_minor": 2
}